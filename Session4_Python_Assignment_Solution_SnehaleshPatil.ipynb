{
 "cells": [
  {
   "cell_type": "markdown",
   "metadata": {},
   "source": [
    "# Assignement 4 : Python"
   ]
  },
  {
   "cell_type": "markdown",
   "metadata": {},
   "source": [
    "# 1.1 Write a Python Program(with class concepts) to find the area of the triangle using the below formula. area = (s*(s-a)*(s-b)*(s-c)) *** 0.5 Function to take the length of the sides of triangle from user should be defined in the parent class and function to calculate the area should be defined in subclass.\n",
    "\n"
   ]
  },
  {
   "cell_type": "code",
   "execution_count": 16,
   "metadata": {},
   "outputs": [
    {
     "name": "stdout",
     "output_type": "stream",
     "text": [
      "Triangle dimension: 3, 4, 5\n",
      "Area: 6.000000\n"
     ]
    }
   ],
   "source": [
    "class triangle:\n",
    "\n",
    "    def __init__(self,a,b,c):\n",
    "        self.a = a\n",
    "        self.b = b\n",
    "        self.c = c\n",
    "        \n",
    "    def area(self):\n",
    "         \n",
    "        s= ( self.a + self.b + self.c)/2\n",
    "        area_ = (s *(s- self.a)*(s-self.b)*(s- self.c)) ** 0.5\n",
    "        return area_\n",
    "    \n",
    "    def __str__(self):\n",
    "        return \"Triangle dimension: %s, %s, %s\" % (self.a,self.b,self.c)\n",
    "    \n",
    "\n",
    "tr = triangle (3,4,5)\n",
    "print (tr)\n",
    "print(\"Area: %f\" %(tr.area()))"
   ]
  },
  {
   "cell_type": "code",
   "execution_count": null,
   "metadata": {
    "collapsed": true
   },
   "outputs": [],
   "source": []
  },
  {
   "cell_type": "markdown",
   "metadata": {},
   "source": [
    "# 1.2 Write a function filter_long_words() that takes a list of words and an integer n and returns the list of words that are longer than n\n"
   ]
  },
  {
   "cell_type": "code",
   "execution_count": 17,
   "metadata": {},
   "outputs": [
    {
     "name": "stdout",
     "output_type": "stream",
     "text": [
      "Please input the list of words: We,Acad,Gild,Pyhton,and,R\n",
      "Please enter number: 3\n",
      "Output List of words longer than  3  words length : ['Acad', 'Gild', 'Pyhton']\n"
     ]
    }
   ],
   "source": [
    "class listcompare:\n",
    "\n",
    "    def __init__(self,lst):\n",
    "        self.lst=lst\n",
    "    \n",
    "    def filter_longerword (self,num):\n",
    "        op_lst =[]\n",
    "        for i in self.lst:\n",
    "            if len(i) > num :\n",
    "                op_lst.append(i)\n",
    "        return ( op_lst )\n",
    "    \n",
    "#main()\n",
    "words_lst = list(input(\"Please input the list of words: \").split(\",\"))\n",
    "num = int(input(\"Please enter number: \"))\n",
    "\n",
    "\n",
    "lc = listcompare(words_lst)\n",
    "op_list = lc.filter_longerword(num)\n",
    "\n",
    "print (\"Output List of words longer than \", num, \" words length :\", op_list)\n"
   ]
  },
  {
   "cell_type": "markdown",
   "metadata": {
    "collapsed": true
   },
   "source": [
    "# 2.1 Write a Python program using function concept that maps list of words into a list of integers representing the lengths of the corresponding words. Hint: ​If a list [ ab,cde,erty] is passed on to the python function output should come as [2,3,4] Here 2,3 and 4 are the lengths of the words in the list.\n"
   ]
  },
  {
   "cell_type": "code",
   "execution_count": 18,
   "metadata": {},
   "outputs": [
    {
     "name": "stdout",
     "output_type": "stream",
     "text": [
      "Please input the list of words: PP,QQQ,RRRR,SSSSS\n",
      "Output List mapped to list of integer :  [2, 3, 4, 5]\n"
     ]
    }
   ],
   "source": [
    "def maptoint (lst):\n",
    "    op_lst =[]\n",
    "    for i in lst:\n",
    "        num = len(i)\n",
    "        op_lst.append(num)\n",
    "    return ( op_lst )\n",
    "\n",
    "words_lst = list(input(\"Please input the list of words: \").split(\",\"))\n",
    "\n",
    "op_list = maptoint(words_lst)\n",
    "print (\"Output List mapped to list of integer : \", op_list)"
   ]
  },
  {
   "cell_type": "markdown",
   "metadata": {
    "collapsed": true
   },
   "source": [
    "# 2.2 Write a Python function which takes a character (i.e. a string of length 1) and returns True if it is a vowel, False otherwise."
   ]
  },
  {
   "cell_type": "code",
   "execution_count": 2,
   "metadata": {},
   "outputs": [
    {
     "name": "stdout",
     "output_type": "stream",
     "text": [
      "Please input a character : i\n",
      "The input character IS vowel\n"
     ]
    }
   ],
   "source": [
    "def isvowel (ip_char):\n",
    "    vowel_lst = ['A','E','I','O','U']\n",
    "    for ch in vowel_lst:\n",
    "        if (ip_char == ch):\n",
    "            return (True)\n",
    "    return False\n",
    "        \n",
    "#Main()\n",
    "ip_letter = str (input(\"Please input a character : \"))\n",
    "if isvowel(str.upper(ip_letter))== True:\n",
    "    print (\"The input character IS vowel\")\n",
    "else:\n",
    "    print (\"The input character IS NOT vowel\")"
   ]
  },
  {
   "cell_type": "code",
   "execution_count": null,
   "metadata": {
    "collapsed": true
   },
   "outputs": [],
   "source": []
  },
  {
   "cell_type": "code",
   "execution_count": null,
   "metadata": {
    "collapsed": true
   },
   "outputs": [],
   "source": []
  },
  {
   "cell_type": "code",
   "execution_count": null,
   "metadata": {
    "collapsed": true
   },
   "outputs": [],
   "source": []
  }
 ],
 "metadata": {
  "kernelspec": {
   "display_name": "Python 3",
   "language": "python",
   "name": "python3"
  },
  "language_info": {
   "codemirror_mode": {
    "name": "ipython",
    "version": 3
   },
   "file_extension": ".py",
   "mimetype": "text/x-python",
   "name": "python",
   "nbconvert_exporter": "python",
   "pygments_lexer": "ipython3",
   "version": "3.6.3"
  }
 },
 "nbformat": 4,
 "nbformat_minor": 2
}
